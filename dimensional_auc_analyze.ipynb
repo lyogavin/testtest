{
 "cells": [
  {
   "cell_type": "code",
   "execution_count": 1,
   "metadata": {},
   "outputs": [
    {
     "name": "stdout",
     "output_type": "stream",
     "text": [
      "<class 'pandas.core.frame.DataFrame'>\n",
      "RangeIndex: 6303449 entries, 0 to 6303448\n",
      "Data columns (total 23 columns):\n",
      "click_time              datetime64[ns]\n",
      "ip                      uint64\n",
      "app                     uint16\n",
      "device                  uint16\n",
      "os                      uint16\n",
      "channel                 uint16\n",
      "is_attributed           uint8\n",
      "hour                    uint8\n",
      "day                     uint8\n",
      "ip_day_hourcount        uint16\n",
      "ip_appcount             uint16\n",
      "ip_channelcount         uint16\n",
      "ip_channel_appcount     uint16\n",
      "ip_app_oscount          uint16\n",
      "ipcount                 uint16\n",
      "ip_hour_channelcount    uint16\n",
      "ip_hour_oscount         uint16\n",
      "ip_hour_appcount        uint16\n",
      "channel_appcount        uint16\n",
      "channel_oscount         uint16\n",
      "channel_app_oscount     uint16\n",
      "app_oscount             uint16\n",
      "predict                 float64\n",
      "dtypes: datetime64[ns](1), float64(1), uint16(17), uint64(1), uint8(3)\n",
      "memory usage: 366.7 MB\n"
     ]
    }
   ],
   "source": [
    "import pandas as pd\n",
    "import numpy as np\n",
    "import pickle\n",
    "from sklearn import metrics\n",
    "\n",
    "target_path = 'val_prediction.csv.03-04-2018_16:07:37'\n",
    "dtypes = pickle.load(open('output_dtypes.pickle','rb'))\n",
    "\n",
    "data = pd.read_csv(target_path, dtype=dtypes,parse_dates=[\"click_time\"])\n",
    "\n",
    "data.info()"
   ]
  },
  {
   "cell_type": "code",
   "execution_count": 40,
   "metadata": {},
   "outputs": [
    {
     "name": "stdout",
     "output_type": "stream",
     "text": [
      "overall auc: 0.968729523171\n",
      "auc of fake prediction: 0.968729523171\n"
     ]
    }
   ],
   "source": [
    "def calculate_auc(val, prediction_col = 'predict'):\n",
    "    #if getattr(val['predict'], \"values\", None) is None:\n",
    "    #    return 0\n",
    "    fpr, tpr, thresholds = metrics.roc_curve(val['is_attributed'].values,\n",
    "        val[prediction_col].values)\n",
    "    auc = metrics.auc(fpr, tpr)\n",
    "    return auc\n",
    "\n",
    "print('overall auc:', calculate_auc(data))\n",
    "\n",
    "data['fake_predict'] = data['predict']*1.2\n",
    "print('auc of fake prediction:', calculate_auc(data,'fake_predict'))"
   ]
  },
  {
   "cell_type": "code",
   "execution_count": 30,
   "metadata": {
    "scrolled": false
   },
   "outputs": [
    {
     "name": "stdout",
     "output_type": "stream",
     "text": [
      "   channel  channel_count  channel_ratio       auc\n",
      "0      107         364663       0.057851  0.772768\n",
      "1      280         336594       0.053398  0.886332\n",
      "2      477         246016       0.039029  0.731441\n",
      "3      101         227930       0.036160  0.986554\n",
      "4      265         187995       0.029824  0.729849\n",
      "5      145         183645       0.029134  0.742323\n",
      "6      153         161661       0.025646  0.825915\n",
      "7      259         161527       0.025625  0.891054\n",
      "8      178         160721       0.025497  0.787944\n",
      "9      121         151508       0.024036  0.775549\n",
      "10     134         142897       0.022670  0.773256\n",
      "11     466         142369       0.022586  0.751861\n",
      "12     205         140104       0.022227  0.749175\n",
      "13     379         137763       0.021855  0.737700\n",
      "14     232         135082       0.021430  0.791275\n",
      "15     442         125632       0.019931  0.740365\n",
      "16     245         103870       0.016478  0.857417\n",
      "17     127         103702       0.016452  0.684062\n",
      "18     489          96326       0.015281  0.843315\n",
      "19     237          95983       0.015227  0.904547\n",
      "20     439          94500       0.014992  0.751640\n",
      "21     135          93415       0.014820  0.628797\n",
      "22     480          89247       0.014158  0.696592\n",
      "23     137          86481       0.013720  0.762017\n",
      "24     469          84647       0.013429  0.732817\n",
      "25     128          80766       0.012813  0.896631\n",
      "26     219          78170       0.012401  0.770687\n",
      "27     122          76908       0.012201  0.682596\n",
      "28     435          71899       0.011406  0.730107\n",
      "29     140          71039       0.011270  0.915231\n",
      "30     459          66969       0.010624  0.879862\n",
      "31     409          64041       0.010160  0.888060\n",
      "    app  app_count  app_ratio       auc\n",
      "0     3     991003   0.157216  0.791153\n",
      "1     9     759166   0.120437  0.727189\n",
      "2    12     723626   0.114798  0.780568\n",
      "3     2     707160   0.112186  0.806241\n",
      "4    18     578768   0.091818  0.762691\n",
      "5    15     394274   0.062549  0.809953\n",
      "6    14     362322   0.057480  0.727781\n",
      "7     7     198853   0.031547  0.856233\n",
      "8     8     189606   0.030080  0.732495\n",
      "9     1     188995   0.029983  0.684479\n",
      "10   11     141069   0.022380  0.777395\n",
      "11   21     135370   0.021476  0.870234\n",
      "12   13     132895   0.021083  0.715150\n",
      "13   26     122205   0.019387  0.644648\n",
      "14   23      89459   0.014192  0.760897\n",
      "15    6      83183   0.013196  0.726521\n",
      "    os  os_count  os_ratio       auc\n",
      "0   19   1486109  0.235761  0.922270\n",
      "1   13   1333597  0.211566  0.921386\n",
      "2   17    326769  0.051840  0.912611\n",
      "3   18    302305  0.047959  0.937869\n",
      "4   22    263999  0.041882  0.890293\n",
      "5    8    179601  0.028492  0.941148\n",
      "6   10    175746  0.027881  0.945319\n",
      "7    6    166423  0.026402  0.949929\n",
      "8    9    157215  0.024941  0.964763\n",
      "9   15    147720  0.023435  0.963066\n",
      "10  25    136887  0.021716  0.913656\n",
      "11  20    135445  0.021487  0.959177\n",
      "12   3    103232  0.016377  0.944716\n",
      "13  16    103157  0.016365  0.859384\n",
      "14  37    102880  0.016321  0.993996\n",
      "15  41     87201  0.013834  0.952560\n",
      "16  14     82603  0.013104  0.915743\n",
      "17   1     75321  0.011949  0.930760\n",
      "18  12     72944  0.011572  0.981862\n",
      "19  23     63848  0.010129  0.970068\n",
      "   device  device_count  device_ratio       auc\n",
      "0       1       5900135      0.936017  0.951397\n",
      "1       2        318676      0.050556  0.964130\n",
      "       ip  ip_count  ip_ratio       auc\n",
      "0   17149    102703  0.016293  0.955544\n",
      "1   26995     92269  0.014638  0.915913\n",
      "2  105475     75407  0.011963  0.927570\n",
      "3  111025     72098  0.011438  0.921048\n",
      "    hour  hour_count  hour_ratio       auc\n",
      "0      4      678267    0.107603  0.965684\n",
      "1      5      618845    0.098176  0.969778\n",
      "2      6      606373    0.096197  0.968547\n",
      "3     13      592523    0.094000  0.972026\n",
      "4     14      588934    0.093430  0.977931\n",
      "5     12      570964    0.090580  0.970586\n",
      "6     11      566272    0.089835  0.975411\n",
      "7     10      559202    0.088714  0.967975\n",
      "8      7      537280    0.085236  0.952309\n",
      "9      9      508181    0.080620  0.969085\n",
      "10     8      476471    0.075589  0.964411\n"
     ]
    }
   ],
   "source": [
    "def top_n_values_of_dimensions(data, dimensions,count_col):\n",
    "    d1 = data[dimensions + [count_col]+['is_attributed','predict']].\\\n",
    "        groupby(by=dimensions)[[count_col]].count().\\\n",
    "        sort_values(count_col, ascending=False).rename(columns={count_col:'_'.join(dimensions+['count'])})\n",
    "    d1['_'.join(dimensions+['ratio'])] = d1['_'.join(dimensions+['count'])] / len(data)\n",
    "    d1 = d1.query('_'.join(dimensions+['ratio']) + ' > 0.01')\n",
    "\n",
    "        #n_chans = training_hist_attribution[group_by_cols + [counting_col]] \\\n",
    "        #    .groupby(by=group_by_cols)[[counting_col]] \\\n",
    "        #    .count().reset_index().rename(columns={counting_col: feature_name_added1})\n",
    "    d1=d1.reset_index()\n",
    "    #d1['_'.join(dimensions)] = pd.Series(['_'. \\\n",
    "    #    join([str(row[dimension]) for dimension in dimensions]) for index, row in d1.iterrows()])\n",
    "    #data['_'.join(dimensions)] = pd.Series(['_'. \\\n",
    "    #    join([str(row[dimension]) for dimension in dimensions]) for index, row in data.iterrows()])\n",
    "    \n",
    "    #data = data.set_index('_'.join(dimensions))\n",
    "    #data = data.set_index(dimensions)\n",
    "    \n",
    "    \n",
    "    #d1['_'.join(dimensions + ['auc'])] = pd.Series([calculate_auc(data.loc['_'. \\\n",
    "    #    join([str(row[dimension]) for dimension in dimensions])]) for index, row in d1.iterrows()])\n",
    "    \n",
    "    #print('dataloc:',data.loc['178_1'])\n",
    "    \n",
    "    #print([row for index, row in d1.reset_index().iterrows()])   \n",
    "\n",
    "    #print(data.loc[[[row[dimension]] for dimension in dimensions] for index, row in d1.reset_index().iterrows()])   \n",
    "    #print([calculate_auc(data.loc[row[dimensions]]) for index, row in d1.iterrows()])  \n",
    "    \n",
    "    #print(data[[dimension for dimension in dimensions]])\n",
    "    auc_list = []\n",
    "    for index, row in d1.reset_index().iterrows():\n",
    "        query_str = ' & '.join(['%s == \\'%d\\'' % (dimension, int(row[dimension])) for dimension in dimensions])\n",
    "        #print('query str:', query_str)\n",
    "        select_data = data.query(query_str)\n",
    "        #print(select_data)\n",
    "        #print('auc of select data:', calculate_auc(select_data) )\n",
    "        auc_list.append(calculate_auc(select_data))\n",
    "    #    l = [str(row[dimension]) for dimension in dimensions]\n",
    "    #    print(\"l:%s:%s\" % (index,'_'.join(l)))\n",
    "    #    #print(\"data loc:\", data.loc['_'.join(l)]['is_attributed'].describe())\n",
    "    #    print(\"data loc auc: %s\" % calculate_auc(data.loc['_'.join(l)]))\n",
    "\n",
    "    d1['auc'] = pd.Series(auc_list)\n",
    "\n",
    "    return d1\n",
    "\n",
    "import gc\n",
    "gc.collect()\n",
    "print(top_n_values_of_dimensions(data, ['channel'],'app'))\n",
    "print(top_n_values_of_dimensions(data, ['app'],'os'))\n",
    "print(top_n_values_of_dimensions(data, ['os'],'app'))\n",
    "print(top_n_values_of_dimensions(data, ['device'],'os'))\n",
    "print(top_n_values_of_dimensions(data, ['ip'],'os'))\n",
    "print(top_n_values_of_dimensions(data, ['hour'],'os'))"
   ]
  },
  {
   "cell_type": "code",
   "execution_count": 31,
   "metadata": {},
   "outputs": [
    {
     "name": "stdout",
     "output_type": "stream",
     "text": [
      "auc of all the data whose ip ever attributed: 0.968926772729\n"
     ]
    }
   ],
   "source": [
    "data_that_ip_ever_attributed = data.groupby('ip').filter(lambda x: x['is_attributed'].max() == 1)\n",
    "\n",
    "print('auc of all the data whose ip ever attributed:', calculate_auc(data_that_ip_ever_attributed))"
   ]
  },
  {
   "cell_type": "code",
   "execution_count": 36,
   "metadata": {},
   "outputs": [
    {
     "name": "stdout",
     "output_type": "stream",
     "text": [
      "mean predict: 0.05121659569571085\n",
      "mean attibution: 0.00332186329465\n"
     ]
    }
   ],
   "source": [
    "print('mean predict:', data_that_ip_ever_attributed['predict'].mean())\n",
    "print('mean attibution:', data_that_ip_ever_attributed['is_attributed'].mean())"
   ]
  },
  {
   "cell_type": "code",
   "execution_count": 34,
   "metadata": {},
   "outputs": [
    {
     "name": "stdout",
     "output_type": "stream",
     "text": [
      "mean positive prediction of all the data whose ip never attributed: 0.048391712672144475\n"
     ]
    }
   ],
   "source": [
    "data_that_ip_never_attributed = data.groupby('ip').filter(lambda x: x['is_attributed'].max() != 1)\n",
    "print('mean positive prediction of all the data whose ip never attributed:', \n",
    "      (data_that_ip_never_attributed['predict'].mean()))"
   ]
  }
 ],
 "metadata": {
  "kernelspec": {
   "display_name": "Python 3",
   "language": "python",
   "name": "python3"
  },
  "language_info": {
   "codemirror_mode": {
    "name": "ipython",
    "version": 3
   },
   "file_extension": ".py",
   "mimetype": "text/x-python",
   "name": "python",
   "nbconvert_exporter": "python",
   "pygments_lexer": "ipython3",
   "version": "3.6.1"
  }
 },
 "nbformat": 4,
 "nbformat_minor": 2
}
