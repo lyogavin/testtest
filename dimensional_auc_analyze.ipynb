{
 "cells": [
  {
   "cell_type": "code",
   "execution_count": 6,
   "metadata": {},
   "outputs": [
    {
     "name": "stdout",
     "output_type": "stream",
     "text": [
      "<class 'pandas.core.frame.DataFrame'>\n",
      "RangeIndex: 3424 entries, 0 to 3423\n",
      "Data columns (total 23 columns):\n",
      "click_time              3424 non-null datetime64[ns]\n",
      "ip                      3424 non-null uint64\n",
      "app                     3424 non-null uint16\n",
      "device                  3424 non-null uint16\n",
      "os                      3424 non-null uint16\n",
      "channel                 3424 non-null uint16\n",
      "is_attributed           3424 non-null uint8\n",
      "hour                    3424 non-null uint8\n",
      "day                     3424 non-null uint8\n",
      "ip_day_hourcount        3424 non-null uint16\n",
      "ip_appcount             3424 non-null uint16\n",
      "ip_channelcount         3424 non-null uint16\n",
      "ip_channel_appcount     3424 non-null uint16\n",
      "ip_app_oscount          3424 non-null uint16\n",
      "ipcount                 3424 non-null uint16\n",
      "ip_hour_channelcount    3424 non-null uint16\n",
      "ip_hour_oscount         3424 non-null uint16\n",
      "ip_hour_appcount        3424 non-null uint16\n",
      "channel_appcount        3424 non-null uint16\n",
      "channel_oscount         3424 non-null uint16\n",
      "channel_app_oscount     3424 non-null uint16\n",
      "app_oscount             3424 non-null uint16\n",
      "predict                 3424 non-null float64\n",
      "dtypes: datetime64[ns](1), float64(1), uint16(17), uint64(1), uint8(3)\n",
      "memory usage: 204.0 KB\n"
     ]
    }
   ],
   "source": [
    "import pandas as pd\n",
    "import numpy as np\n",
    "import pickle\n",
    "from sklearn import metrics\n",
    "\n",
    "target_path = 'val_prediction.csv.03-04-2018_15:29:33'\n",
    "dtypes = pickle.load(open('output_dtypes.pickle','rb'))\n",
    "\n",
    "data = pd.read_csv(target_path, dtype=dtypes,parse_dates=[\"click_time\"])\n",
    "\n",
    "data.info()"
   ]
  },
  {
   "cell_type": "code",
   "execution_count": 7,
   "metadata": {},
   "outputs": [
    {
     "name": "stdout",
     "output_type": "stream",
     "text": [
      "overall auc: 0.967816891101\n"
     ]
    }
   ],
   "source": [
    "def calculate_auc(val):\n",
    "    fpr, tpr, thresholds = metrics.roc_curve(val['is_attributed'].values,\n",
    "        val['predict'].values)\n",
    "    auc = metrics.auc(fpr, tpr)\n",
    "    return auc\n",
    "\n",
    "print('overall auc:', calculate_auc(data))"
   ]
  },
  {
   "cell_type": "code",
   "execution_count": 29,
   "metadata": {},
   "outputs": [
    {
     "ename": "SyntaxError",
     "evalue": "invalid syntax (<ipython-input-29-a93fdc5dd525>, line 11)",
     "output_type": "error",
     "traceback": [
      "\u001b[0;36m  File \u001b[0;32m\"<ipython-input-29-a93fdc5dd525>\"\u001b[0;36m, line \u001b[0;32m11\u001b[0m\n\u001b[0;31m    print(data.loc[[[row[dimension]] for dimension in dimensions] for index, row in d1.reset_index().iterrows()])\u001b[0m\n\u001b[0m                                                                    ^\u001b[0m\n\u001b[0;31mSyntaxError\u001b[0m\u001b[0;31m:\u001b[0m invalid syntax\n"
     ]
    }
   ],
   "source": [
    "def top_n_values_of_dimensions(data, dimensions,count_col):\n",
    "    d1 = data[dimensions + [count_col]+['is_attributed','predict']].\\\n",
    "        groupby(by=dimensions)[[count_col]].count().\\\n",
    "        sort_values(count_col, ascending=False).rename(columns={count_col:'_'.join(dimensions+['count'])})\n",
    "    d1['_'.join(dimensions+['ratio'])] = d1['_'.join(dimensions+['count'])] / len(data)\n",
    "        #n_chans = training_hist_attribution[group_by_cols + [counting_col]] \\\n",
    "        #    .groupby(by=group_by_cols)[[counting_col]] \\\n",
    "        #    .count().reset_index().rename(columns={counting_col: feature_name_added1})\n",
    "    data = data.set_index(dimensions)\n",
    "    \n",
    "    #print([row for index, row in d1.reset_index().iterrows()])   \n",
    "\n",
    "    print(data.loc[[[row[dimension]] for dimension in dimensions] for index, row in d1.reset_index().iterrows()])   \n",
    "    #print([calculate_auc(data.loc[row[dimensions]]) for index, row in d1.iterrows()])   \n",
    "\n",
    "    return d1\n",
    "print(top_n_values_of_dimensions(data, ['channel','os'],'app'))"
   ]
  }
 ],
 "metadata": {
  "kernelspec": {
   "display_name": "Python 3",
   "language": "python",
   "name": "python3"
  },
  "language_info": {
   "codemirror_mode": {
    "name": "ipython",
    "version": 3
   },
   "file_extension": ".py",
   "mimetype": "text/x-python",
   "name": "python",
   "nbconvert_exporter": "python",
   "pygments_lexer": "ipython3",
   "version": "3.6.1"
  }
 },
 "nbformat": 4,
 "nbformat_minor": 2
}
