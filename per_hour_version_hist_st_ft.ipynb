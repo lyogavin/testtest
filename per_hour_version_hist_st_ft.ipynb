{
 "cells": [
  {
   "cell_type": "code",
   "execution_count": null,
   "metadata": {
    "collapsed": true
   },
   "outputs": [],
   "source": [
    "# backup per hour version that scales in kernel \n",
    "    \n",
    "    elif add_hist_sta_fts_per_dayhour:\n",
    "        # scales in kernel this way\n",
    "        days = [8,9]\n",
    "        hours = [4,5,9,10,13,14]\n",
    "        train_datas = []\n",
    "        for day in days:\n",
    "            for hour in hours:\n",
    "                train1 = pd.read_csv(path_train_sample if use_sample else path_train, dtype=dtypes,\n",
    "                        header=0,usecols=train_cols,parse_dates=[\"click_time\"])#.sample(1000)\n",
    "                train1 = gen_categorical_features(train1)\n",
    "\n",
    "                len_train = len(train1)\n",
    "                print('The initial size of the train set is', len_train)\n",
    "                print('Binding the training and test set together...')\n",
    "                train1 = train1.query('day == {} | day == {}'.format(day-1, day))\n",
    "\n",
    "                gc.collect()\n",
    "\n",
    "                train1 = train1.query('hour == {}'.format(hour))\n",
    "                gc.collect()\n",
    "\n",
    "                train1, new_hist_st_fts = add_historical_statistical_features(train1)\n",
    "                hist_st_fts |= set(new_hist_st_fts)\n",
    "                train1.query('day == ' + str(day))\n",
    "                gc.collect()\n",
    "                train_datas.append(train1)\n",
    "\n",
    "        train = pd.concat(train_datas)\n",
    "        del train_datas\n",
    "        gc.collect()"
   ]
  }
 ],
 "metadata": {
  "kernelspec": {
   "display_name": "Python 3",
   "language": "python",
   "name": "python3"
  },
  "language_info": {
   "codemirror_mode": {
    "name": "ipython",
    "version": 3
   },
   "file_extension": ".py",
   "mimetype": "text/x-python",
   "name": "python",
   "nbconvert_exporter": "python",
   "pygments_lexer": "ipython3",
   "version": "3.6.1"
  }
 },
 "nbformat": 4,
 "nbformat_minor": 2
}
