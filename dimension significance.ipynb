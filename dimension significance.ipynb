{
 "cells": [
  {
   "cell_type": "code",
   "execution_count": null,
   "metadata": {},
   "outputs": [
    {
     "name": "stdout",
     "output_type": "stream",
     "text": [
      "len read: 37170059\n"
     ]
    }
   ],
   "source": [
    "import pandas as pd\n",
    "import numpy as np\n",
    "\n",
    "train_cols = ['ip', 'app', 'device', 'os', 'channel', 'click_time', 'is_attributed']\n",
    "test_cols = ['ip', 'app', 'device', 'os', 'channel', 'click_time', 'click_id']\n",
    "\n",
    "dtypes = {\n",
    "        'ip'            : 'uint32',\n",
    "        'app'           : 'uint16',\n",
    "        'device'        : 'uint16',\n",
    "        'os'            : 'uint16',\n",
    "        'channel'       : 'uint16',\n",
    "        'is_attributed' : 'uint8',\n",
    "        'click_id'      : 'uint32'\n",
    "        }\n",
    "        \n",
    "\n",
    "data = pd.read_csv('../input/talkingdata-adtracking-fraud-detection/train.csv', \n",
    "                   skiprows=range(1,144708152), nrows=181878211-144708152,\n",
    "                   header=0,usecols=train_cols,parse_dates=[\"click_time\"], dtype=dtypes,\n",
    "                  engine='c')\n",
    "#data = pd.read_csv('../input/talkingdata-adtracking-fraud-detection/test.csv', header=0,usecols=test_cols,parse_dates=[\"click_time\"], dtype=dtypes)\n",
    "#data = pd.read_csv('../input/talkingdata-adtracking-fraud-detection/train_sample.csv', header=0,usecols=train_cols,parse_dates=[\"click_time\"], dtype=dtypes)\n",
    "\n",
    "print('len read:',len(data))\n",
    "\n",
    "\n",
    "data['hour'] = data[\"click_time\"].dt.hour.astype('uint8')\n",
    "data['day'] = data[\"click_time\"].dt.day.astype('uint8')\n",
    "\n",
    "#print('unique days in sample"
   ]
  },
  {
   "cell_type": "code",
   "execution_count": null,
   "metadata": {},
   "outputs": [],
   "source": [
    "\n",
    "data1 = pd.read_csv('../input/talkingdata-adtracking-fraud-detection/test.csv', \n",
    "                   #skiprows=range(1,144708152), nrows=181878211-144708152,\n",
    "                   header=0,usecols=test_cols,parse_dates=[\"click_time\"], dtype=dtypes,\n",
    "                  engine='c')\n",
    "#data = pd.read_csv('../input/talkingdata-adtracking-fraud-detection/test.csv', header=0,usecols=test_cols,parse_dates=[\"click_time\"], dtype=dtypes)\n",
    "#data = pd.read_csv('../input/talkingdata-adtracking-fraud-detection/train_sample.csv', header=0,usecols=train_cols,parse_dates=[\"click_time\"], dtype=dtypes)\n",
    "\n",
    "data1['hour'] = data1[\"click_time\"].dt.hour.astype('uint8')\n",
    "data1['day'] = data1[\"click_time\"].dt.day.astype('uint8')\n",
    "print('len read:',len(data1))"
   ]
  },
  {
   "cell_type": "code",
   "execution_count": null,
   "metadata": {
    "collapsed": true
   },
   "outputs": [],
   "source": [
    "def top_n_values_of_dimensions(data, dimensions,count_col):\n",
    "    d1 = data[dimensions + [count_col]].\\\n",
    "        groupby(by=dimensions)[[count_col]].count().\\\n",
    "        sort_values(count_col, ascending=False).rename(columns={count_col:'_'.join(dimensions+['count'])})\n",
    "    d1['_'.join(dimensions+['ratio'])] = d1['_'.join(dimensions+['count'])] / len(data)\n",
    "    d1 = d1.query('_'.join(dimensions+['ratio']) + ' > 0.01')\n",
    "\n",
    "        #n_chans = training_hist_attribution[group_by_cols + [counting_col]] \\\n",
    "        #    .groupby(by=group_by_cols)[[counting_col]] \\\n",
    "        #    .count().reset_index().rename(columns={counting_col: feature_name_added1})\n",
    "    d1=d1.reset_index()\n",
    "    #d1['_'.join(dimensions)] = pd.Series(['_'. \\\n",
    "    #    join([str(row[dimension]) for dimension in dimensions]) for index, row in d1.iterrows()])\n",
    "    #data['_'.join(dimensions)] = pd.Series(['_'. \\\n",
    "    #    join([str(row[dimension]) for dimension in dimensions]) for index, row in data.iterrows()])\n",
    "    \n",
    "    #data = data.set_index('_'.join(dimensions))\n",
    "    #data = data.set_index(dimensions)\n",
    "    \n",
    "    \n",
    "    #d1['_'.join(dimensions + ['auc'])] = pd.Series([calculate_auc(data.loc['_'. \\\n",
    "    #    join([str(row[dimension]) for dimension in dimensions])]) for index, row in d1.iterrows()])\n",
    "    \n",
    "    #print('dataloc:',data.loc['178_1'])\n",
    "    \n",
    "    #print([row for index, row in d1.reset_index().iterrows()])   \n",
    "\n",
    "    #print(data.loc[[[row[dimension]] for dimension in dimensions] for index, row in d1.reset_index().iterrows()])   \n",
    "    #print([calculate_auc(data.loc[row[dimensions]]) for index, row in d1.iterrows()])  \n",
    "    \n",
    "    #print(data[[dimension for dimension in dimensions]])\n",
    "    #auc_list = []\n",
    "    #for index, row in d1.reset_index().iterrows():\n",
    "    #    query_str = ' & '.join(['%s == \\'%d\\'' % (dimension, int(row[dimension])) for dimension in dimensions])\n",
    "        #print('query str:', query_str)\n",
    "    #    select_data = data.query(query_str)\n",
    "        #print(select_data)\n",
    "        #print('auc of select data:', calculate_auc(select_data) )\n",
    "    #    auc_list.append(calculate_auc(select_data))\n",
    "    #    l = [str(row[dimension]) for dimension in dimensions]\n",
    "    #    print(\"l:%s:%s\" % (index,'_'.join(l)))\n",
    "    #    #print(\"data loc:\", data.loc['_'.join(l)]['is_attributed'].describe())\n",
    "    #    print(\"data loc auc: %s\" % calculate_auc(data.loc['_'.join(l)]))\n",
    "\n",
    "    #d1['auc'] = pd.Series(auc_list)\n",
    "\n",
    "    return d1\n",
    "\n",
    "import gc\n",
    "gc.collect()\n",
    "print('train...')\n",
    "print(top_n_values_of_dimensions(data, ['channel'],'app'))\n",
    "print(top_n_values_of_dimensions(data, ['app'],'os'))\n",
    "print(top_n_values_of_dimensions(data, ['os'],'app'))\n",
    "print(top_n_values_of_dimensions(data, ['device'],'os'))\n",
    "print(top_n_values_of_dimensions(data, ['ip'],'os'))\n",
    "print(top_n_values_of_dimensions(data, ['hour'],'os'))"
   ]
  },
  {
   "cell_type": "code",
   "execution_count": 4,
   "metadata": {},
   "outputs": [
    {
     "name": "stdout",
     "output_type": "stream",
     "text": [
      "train...\n",
      "    channel  channel_count  channel_ratio\n",
      "0       280       15065927       0.081480\n",
      "1       245        8873025       0.047987\n",
      "2       107        8457471       0.045740\n",
      "3       477        7188340       0.038876\n",
      "4       134        5924250       0.032040\n",
      "5       259        5787004       0.031297\n",
      "6       153        5537977       0.029951\n",
      "7       265        5446388       0.029455\n",
      "8       178        5271408       0.028509\n",
      "9       121        4692438       0.025378\n",
      "10      205        4359180       0.023575\n",
      "11      145        3583945       0.019383\n",
      "12      442        3574611       0.019332\n",
      "13      459        3477150       0.018805\n",
      "14      379        3402636       0.018402\n",
      "15      439        2901762       0.015693\n",
      "16      489        2711240       0.014663\n",
      "17      128        2703163       0.014619\n",
      "18      135        2663913       0.014407\n",
      "19      466        2655396       0.014361\n",
      "20      237        2632794       0.014239\n",
      "21      480        2618441       0.014161\n",
      "22      469        2588380       0.013999\n",
      "23      140        2562964       0.013861\n",
      "24      122        2526161       0.013662\n",
      "25      219        2349454       0.012706\n",
      "26      137        2302316       0.012451\n",
      "27      232        2275338       0.012306\n",
      "28      435        2192870       0.011860\n",
      "29      101        2147174       0.011612\n",
      "30      334        1965114       0.010628\n",
      "31      409        1955086       0.010574\n",
      "    app  app_count  app_ratio\n",
      "0     3   33911780   0.183402\n",
      "1    12   24179003   0.130765\n",
      "2     2   21642136   0.117045\n",
      "3     9   16458268   0.089010\n",
      "4    15   15958970   0.086310\n",
      "5    18   15756587   0.085215\n",
      "6    14   10027169   0.054229\n",
      "7     1    5796274   0.031347\n",
      "8    13    4329409   0.023414\n",
      "9     8    3731948   0.020183\n",
      "10   21    3616407   0.019558\n",
      "11   11    3466971   0.018750\n",
      "12   26    3126136   0.016907\n",
      "13   23    2675259   0.014468\n",
      "14    6    2464136   0.013327\n",
      "15   64    1893969   0.010243\n",
      "    os  os_count  os_ratio\n",
      "0   19  44181914  0.238945\n",
      "1   13  39782808  0.215154\n",
      "2   17   9639776  0.052134\n",
      "3   18   8974159  0.048534\n",
      "4   22   7414405  0.040099\n",
      "5    8   5278317  0.028546\n",
      "6   10   5262422  0.028460\n",
      "7    6   4632561  0.025054\n",
      "8   15   4408470  0.023842\n",
      "9    9   4370878  0.023639\n",
      "10  25   4156096  0.022477\n",
      "11  20   4013563  0.021706\n",
      "12  16   3081268  0.016664\n",
      "13  37   2905944  0.015716\n",
      "14   3   2904808  0.015710\n",
      "15  14   2503681  0.013540\n",
      "16  41   2467180  0.013343\n",
      "17   1   2215593  0.011982\n",
      "18  12   2006410  0.010851\n",
      "   device  device_count  device_ratio\n",
      "0       1     174330052      0.942814\n",
      "1       2       8105054      0.043834\n",
      "Empty DataFrame\n",
      "Columns: [ip, ip_count, ip_ratio]\n",
      "Index: []\n",
      "    hour  hour_count  hour_ratio\n",
      "0      4    11223316    0.060698\n",
      "1      0    10416435    0.056334\n",
      "2     13    10309396    0.055755\n",
      "3     14    10281823    0.055606\n",
      "4      5    10059359    0.054403\n",
      "5     10     9982031    0.053985\n",
      "6     11     9912918    0.053611\n",
      "7     12     9849365    0.053267\n",
      "8      2     9750363    0.052732\n",
      "9      3     9743476    0.052695\n",
      "10     6     9471879    0.051226\n",
      "11     1     9456661    0.051144\n",
      "12     7     9265535    0.050110\n",
      "13    15     9226735    0.049900\n",
      "14     9     9015837    0.048760\n",
      "15     8     8582051    0.046414\n",
      "16    16     7078571    0.038282\n",
      "17    23     7060079    0.038182\n",
      "18    17     3913808    0.021167\n",
      "19    22     3656590    0.019776\n",
      "20    18     2258912    0.012217\n",
      "test....\n"
     ]
    },
    {
     "ename": "KeyError",
     "evalue": "\"['is_attributed'] not in index\"",
     "output_type": "error",
     "traceback": [
      "\u001b[0;31m---------------------------------------------------------------------------\u001b[0m",
      "\u001b[0;31mKeyError\u001b[0m                                  Traceback (most recent call last)",
      "\u001b[0;32m<ipython-input-4-c68c9f053ba2>\u001b[0m in \u001b[0;36m<module>\u001b[0;34m()\u001b[0m\n\u001b[1;32m     57\u001b[0m \u001b[0;34m\u001b[0m\u001b[0m\n\u001b[1;32m     58\u001b[0m \u001b[0mprint\u001b[0m\u001b[0;34m(\u001b[0m\u001b[0;34m'test....'\u001b[0m\u001b[0;34m)\u001b[0m\u001b[0;34m\u001b[0m\u001b[0m\n\u001b[0;32m---> 59\u001b[0;31m \u001b[0mprint\u001b[0m\u001b[0;34m(\u001b[0m\u001b[0mtop_n_values_of_dimensions\u001b[0m\u001b[0;34m(\u001b[0m\u001b[0mdata1\u001b[0m\u001b[0;34m,\u001b[0m \u001b[0;34m[\u001b[0m\u001b[0;34m'channel'\u001b[0m\u001b[0;34m]\u001b[0m\u001b[0;34m,\u001b[0m\u001b[0;34m'app'\u001b[0m\u001b[0;34m)\u001b[0m\u001b[0;34m)\u001b[0m\u001b[0;34m\u001b[0m\u001b[0m\n\u001b[0m\u001b[1;32m     60\u001b[0m \u001b[0mprint\u001b[0m\u001b[0;34m(\u001b[0m\u001b[0mtop_n_values_of_dimensions\u001b[0m\u001b[0;34m(\u001b[0m\u001b[0mdata1\u001b[0m\u001b[0;34m,\u001b[0m \u001b[0;34m[\u001b[0m\u001b[0;34m'app'\u001b[0m\u001b[0;34m]\u001b[0m\u001b[0;34m,\u001b[0m\u001b[0;34m'os'\u001b[0m\u001b[0;34m)\u001b[0m\u001b[0;34m)\u001b[0m\u001b[0;34m\u001b[0m\u001b[0m\n\u001b[1;32m     61\u001b[0m \u001b[0mprint\u001b[0m\u001b[0;34m(\u001b[0m\u001b[0mtop_n_values_of_dimensions\u001b[0m\u001b[0;34m(\u001b[0m\u001b[0mdata1\u001b[0m\u001b[0;34m,\u001b[0m \u001b[0;34m[\u001b[0m\u001b[0;34m'os'\u001b[0m\u001b[0;34m]\u001b[0m\u001b[0;34m,\u001b[0m\u001b[0;34m'app'\u001b[0m\u001b[0;34m)\u001b[0m\u001b[0;34m)\u001b[0m\u001b[0;34m\u001b[0m\u001b[0m\n",
      "\u001b[0;32m<ipython-input-4-c68c9f053ba2>\u001b[0m in \u001b[0;36mtop_n_values_of_dimensions\u001b[0;34m(data, dimensions, count_col)\u001b[0m\n\u001b[1;32m      1\u001b[0m \u001b[0;32mdef\u001b[0m \u001b[0mtop_n_values_of_dimensions\u001b[0m\u001b[0;34m(\u001b[0m\u001b[0mdata\u001b[0m\u001b[0;34m,\u001b[0m \u001b[0mdimensions\u001b[0m\u001b[0;34m,\u001b[0m\u001b[0mcount_col\u001b[0m\u001b[0;34m)\u001b[0m\u001b[0;34m:\u001b[0m\u001b[0;34m\u001b[0m\u001b[0m\n\u001b[0;32m----> 2\u001b[0;31m     \u001b[0md1\u001b[0m \u001b[0;34m=\u001b[0m \u001b[0mdata\u001b[0m\u001b[0;34m[\u001b[0m\u001b[0mdimensions\u001b[0m \u001b[0;34m+\u001b[0m \u001b[0;34m[\u001b[0m\u001b[0mcount_col\u001b[0m\u001b[0;34m]\u001b[0m\u001b[0;34m+\u001b[0m\u001b[0;34m[\u001b[0m\u001b[0;34m'is_attributed'\u001b[0m\u001b[0;34m]\u001b[0m\u001b[0;34m]\u001b[0m\u001b[0;34m.\u001b[0m        \u001b[0mgroupby\u001b[0m\u001b[0;34m(\u001b[0m\u001b[0mby\u001b[0m\u001b[0;34m=\u001b[0m\u001b[0mdimensions\u001b[0m\u001b[0;34m)\u001b[0m\u001b[0;34m[\u001b[0m\u001b[0;34m[\u001b[0m\u001b[0mcount_col\u001b[0m\u001b[0;34m]\u001b[0m\u001b[0;34m]\u001b[0m\u001b[0;34m.\u001b[0m\u001b[0mcount\u001b[0m\u001b[0;34m(\u001b[0m\u001b[0;34m)\u001b[0m\u001b[0;34m.\u001b[0m        \u001b[0msort_values\u001b[0m\u001b[0;34m(\u001b[0m\u001b[0mcount_col\u001b[0m\u001b[0;34m,\u001b[0m \u001b[0mascending\u001b[0m\u001b[0;34m=\u001b[0m\u001b[0;32mFalse\u001b[0m\u001b[0;34m)\u001b[0m\u001b[0;34m.\u001b[0m\u001b[0mrename\u001b[0m\u001b[0;34m(\u001b[0m\u001b[0mcolumns\u001b[0m\u001b[0;34m=\u001b[0m\u001b[0;34m{\u001b[0m\u001b[0mcount_col\u001b[0m\u001b[0;34m:\u001b[0m\u001b[0;34m'_'\u001b[0m\u001b[0;34m.\u001b[0m\u001b[0mjoin\u001b[0m\u001b[0;34m(\u001b[0m\u001b[0mdimensions\u001b[0m\u001b[0;34m+\u001b[0m\u001b[0;34m[\u001b[0m\u001b[0;34m'count'\u001b[0m\u001b[0;34m]\u001b[0m\u001b[0;34m)\u001b[0m\u001b[0;34m}\u001b[0m\u001b[0;34m)\u001b[0m\u001b[0;34m\u001b[0m\u001b[0m\n\u001b[0m\u001b[1;32m      3\u001b[0m     \u001b[0md1\u001b[0m\u001b[0;34m[\u001b[0m\u001b[0;34m'_'\u001b[0m\u001b[0;34m.\u001b[0m\u001b[0mjoin\u001b[0m\u001b[0;34m(\u001b[0m\u001b[0mdimensions\u001b[0m\u001b[0;34m+\u001b[0m\u001b[0;34m[\u001b[0m\u001b[0;34m'ratio'\u001b[0m\u001b[0;34m]\u001b[0m\u001b[0;34m)\u001b[0m\u001b[0;34m]\u001b[0m \u001b[0;34m=\u001b[0m \u001b[0md1\u001b[0m\u001b[0;34m[\u001b[0m\u001b[0;34m'_'\u001b[0m\u001b[0;34m.\u001b[0m\u001b[0mjoin\u001b[0m\u001b[0;34m(\u001b[0m\u001b[0mdimensions\u001b[0m\u001b[0;34m+\u001b[0m\u001b[0;34m[\u001b[0m\u001b[0;34m'count'\u001b[0m\u001b[0;34m]\u001b[0m\u001b[0;34m)\u001b[0m\u001b[0;34m]\u001b[0m \u001b[0;34m/\u001b[0m \u001b[0mlen\u001b[0m\u001b[0;34m(\u001b[0m\u001b[0mdata\u001b[0m\u001b[0;34m)\u001b[0m\u001b[0;34m\u001b[0m\u001b[0m\n\u001b[1;32m      4\u001b[0m     \u001b[0md1\u001b[0m \u001b[0;34m=\u001b[0m \u001b[0md1\u001b[0m\u001b[0;34m.\u001b[0m\u001b[0mquery\u001b[0m\u001b[0;34m(\u001b[0m\u001b[0;34m'_'\u001b[0m\u001b[0;34m.\u001b[0m\u001b[0mjoin\u001b[0m\u001b[0;34m(\u001b[0m\u001b[0mdimensions\u001b[0m\u001b[0;34m+\u001b[0m\u001b[0;34m[\u001b[0m\u001b[0;34m'ratio'\u001b[0m\u001b[0;34m]\u001b[0m\u001b[0;34m)\u001b[0m \u001b[0;34m+\u001b[0m \u001b[0;34m' > 0.01'\u001b[0m\u001b[0;34m)\u001b[0m\u001b[0;34m\u001b[0m\u001b[0m\n\u001b[1;32m      5\u001b[0m \u001b[0;34m\u001b[0m\u001b[0m\n",
      "\u001b[0;32m/Users/youku/software/anaconda3/lib/python3.6/site-packages/pandas/core/frame.py\u001b[0m in \u001b[0;36m__getitem__\u001b[0;34m(self, key)\u001b[0m\n\u001b[1;32m   2131\u001b[0m         \u001b[0;32mif\u001b[0m \u001b[0misinstance\u001b[0m\u001b[0;34m(\u001b[0m\u001b[0mkey\u001b[0m\u001b[0;34m,\u001b[0m \u001b[0;34m(\u001b[0m\u001b[0mSeries\u001b[0m\u001b[0;34m,\u001b[0m \u001b[0mnp\u001b[0m\u001b[0;34m.\u001b[0m\u001b[0mndarray\u001b[0m\u001b[0;34m,\u001b[0m \u001b[0mIndex\u001b[0m\u001b[0;34m,\u001b[0m \u001b[0mlist\u001b[0m\u001b[0;34m)\u001b[0m\u001b[0;34m)\u001b[0m\u001b[0;34m:\u001b[0m\u001b[0;34m\u001b[0m\u001b[0m\n\u001b[1;32m   2132\u001b[0m             \u001b[0;31m# either boolean or fancy integer index\u001b[0m\u001b[0;34m\u001b[0m\u001b[0;34m\u001b[0m\u001b[0m\n\u001b[0;32m-> 2133\u001b[0;31m             \u001b[0;32mreturn\u001b[0m \u001b[0mself\u001b[0m\u001b[0;34m.\u001b[0m\u001b[0m_getitem_array\u001b[0m\u001b[0;34m(\u001b[0m\u001b[0mkey\u001b[0m\u001b[0;34m)\u001b[0m\u001b[0;34m\u001b[0m\u001b[0m\n\u001b[0m\u001b[1;32m   2134\u001b[0m         \u001b[0;32melif\u001b[0m \u001b[0misinstance\u001b[0m\u001b[0;34m(\u001b[0m\u001b[0mkey\u001b[0m\u001b[0;34m,\u001b[0m \u001b[0mDataFrame\u001b[0m\u001b[0;34m)\u001b[0m\u001b[0;34m:\u001b[0m\u001b[0;34m\u001b[0m\u001b[0m\n\u001b[1;32m   2135\u001b[0m             \u001b[0;32mreturn\u001b[0m \u001b[0mself\u001b[0m\u001b[0;34m.\u001b[0m\u001b[0m_getitem_frame\u001b[0m\u001b[0;34m(\u001b[0m\u001b[0mkey\u001b[0m\u001b[0;34m)\u001b[0m\u001b[0;34m\u001b[0m\u001b[0m\n",
      "\u001b[0;32m/Users/youku/software/anaconda3/lib/python3.6/site-packages/pandas/core/frame.py\u001b[0m in \u001b[0;36m_getitem_array\u001b[0;34m(self, key)\u001b[0m\n\u001b[1;32m   2175\u001b[0m             \u001b[0;32mreturn\u001b[0m \u001b[0mself\u001b[0m\u001b[0;34m.\u001b[0m\u001b[0m_take\u001b[0m\u001b[0;34m(\u001b[0m\u001b[0mindexer\u001b[0m\u001b[0;34m,\u001b[0m \u001b[0maxis\u001b[0m\u001b[0;34m=\u001b[0m\u001b[0;36m0\u001b[0m\u001b[0;34m,\u001b[0m \u001b[0mconvert\u001b[0m\u001b[0;34m=\u001b[0m\u001b[0;32mFalse\u001b[0m\u001b[0;34m)\u001b[0m\u001b[0;34m\u001b[0m\u001b[0m\n\u001b[1;32m   2176\u001b[0m         \u001b[0;32melse\u001b[0m\u001b[0;34m:\u001b[0m\u001b[0;34m\u001b[0m\u001b[0m\n\u001b[0;32m-> 2177\u001b[0;31m             \u001b[0mindexer\u001b[0m \u001b[0;34m=\u001b[0m \u001b[0mself\u001b[0m\u001b[0;34m.\u001b[0m\u001b[0mloc\u001b[0m\u001b[0;34m.\u001b[0m\u001b[0m_convert_to_indexer\u001b[0m\u001b[0;34m(\u001b[0m\u001b[0mkey\u001b[0m\u001b[0;34m,\u001b[0m \u001b[0maxis\u001b[0m\u001b[0;34m=\u001b[0m\u001b[0;36m1\u001b[0m\u001b[0;34m)\u001b[0m\u001b[0;34m\u001b[0m\u001b[0m\n\u001b[0m\u001b[1;32m   2178\u001b[0m             \u001b[0;32mreturn\u001b[0m \u001b[0mself\u001b[0m\u001b[0;34m.\u001b[0m\u001b[0m_take\u001b[0m\u001b[0;34m(\u001b[0m\u001b[0mindexer\u001b[0m\u001b[0;34m,\u001b[0m \u001b[0maxis\u001b[0m\u001b[0;34m=\u001b[0m\u001b[0;36m1\u001b[0m\u001b[0;34m,\u001b[0m \u001b[0mconvert\u001b[0m\u001b[0;34m=\u001b[0m\u001b[0;32mTrue\u001b[0m\u001b[0;34m)\u001b[0m\u001b[0;34m\u001b[0m\u001b[0m\n\u001b[1;32m   2179\u001b[0m \u001b[0;34m\u001b[0m\u001b[0m\n",
      "\u001b[0;32m/Users/youku/software/anaconda3/lib/python3.6/site-packages/pandas/core/indexing.py\u001b[0m in \u001b[0;36m_convert_to_indexer\u001b[0;34m(self, obj, axis, is_setter)\u001b[0m\n\u001b[1;32m   1267\u001b[0m                 \u001b[0;32mif\u001b[0m \u001b[0mmask\u001b[0m\u001b[0;34m.\u001b[0m\u001b[0many\u001b[0m\u001b[0;34m(\u001b[0m\u001b[0;34m)\u001b[0m\u001b[0;34m:\u001b[0m\u001b[0;34m\u001b[0m\u001b[0m\n\u001b[1;32m   1268\u001b[0m                     raise KeyError('{mask} not in index'\n\u001b[0;32m-> 1269\u001b[0;31m                                    .format(mask=objarr[mask]))\n\u001b[0m\u001b[1;32m   1270\u001b[0m \u001b[0;34m\u001b[0m\u001b[0m\n\u001b[1;32m   1271\u001b[0m                 \u001b[0;32mreturn\u001b[0m \u001b[0m_values_from_object\u001b[0m\u001b[0;34m(\u001b[0m\u001b[0mindexer\u001b[0m\u001b[0;34m)\u001b[0m\u001b[0;34m\u001b[0m\u001b[0m\n",
      "\u001b[0;31mKeyError\u001b[0m: \"['is_attributed'] not in index\""
     ]
    }
   ],
   "source": [
    "print('test....')"
   ]
  },
  {
   "cell_type": "code",
   "execution_count": 41,
   "metadata": {
    "collapsed": true
   },
   "outputs": [],
   "source": [
    "def top_n_values_of_dimensions(data, dimensions,count_col):\n",
    "    d1 = data[dimensions + [count_col]].\\\n",
    "        groupby(by=dimensions)[[count_col]].count().\\\n",
    "        sort_values(count_col, ascending=False).rename(columns={count_col:'_'.join(dimensions+['count'])})\n",
    "    d1['_'.join(dimensions+['ratio'])] = d1['_'.join(dimensions+['count'])] / len(data)\n",
    "    #d1 = d1.query('_'.join(dimensions+['ratio']) + ' > 0.01')\n",
    "\n",
    "        #n_chans = training_hist_attribution[group_by_cols + [counting_col]] \\\n",
    "        #    .groupby(by=group_by_cols)[[counting_col]] \\\n",
    "        #    .count().reset_index().rename(columns={counting_col: feature_name_added1})\n",
    "    d1=d1.reset_index()\n",
    "    return d1\n",
    "\n",
    "#print(top_n_values_of_dimensions(data1, ['channel'],'app'))\n",
    "#print(top_n_values_of_dimensions(data1, ['app'],'os'))\n",
    "#print(top_n_values_of_dimensions(data1, ['os'],'app'))\n",
    "#print(top_n_values_of_dimensions(data1, ['device'],'os'))\n",
    "#print(top_n_values_of_dimensions(data1, ['ip'],'os'))\n",
    "#print(top_n_values_of_dimensions(data1, ['hour'],'os'))\n",
    "\n",
    "train_ch = top_n_values_of_dimensions(data, ['channel'],'app')\n",
    "test_ch = top_n_values_of_dimensions(data1, ['channel'],'app')\n",
    "mg = train_ch.merge(test_ch, on=['channel'], how='left')\n"
   ]
  },
  {
   "cell_type": "code",
   "execution_count": 52,
   "metadata": {},
   "outputs": [
    {
     "name": "stdout",
     "output_type": "stream",
     "text": [
      "total test channels: 178\n",
      "total ratio of most popular 88 channels in test:\n",
      "0.9914532202469242\n",
      "total ratio of least popular 90 channels in test:\n",
      "0.00854677975307588\n",
      "most popular 88 channels in test:\n",
      "107,265,232,477,178,153,134,259,128,442,127,379,205,466,121,137,439,489,145,480,135,469,219,122,215,435,244,237,347,409,140,334,452,328,377,211,236,424,173,130,459,116,19,115,315,401,125,212,340,349,258,266,234,213,105,445,376,386,481,319,3,343,463,478,412,278,430,101,111,400,364,497,124,402,487,325,243,417,326,18,113,448,242,150,17,317,488,21\n",
      "lease popular 90 channels in test:\n",
      "'172,149,138,322,490,169,251,458,483,281,222,181,223,256,352,407,233,216,123,4,420,114,272,408,410,341,455,0,261,356,262,126,457,174,208,311,416,498,414,277,353,451,332,391,479,15,110,22,465,253,456,460,108,203,160,320,484,450,274,5,24,419,120,268,446,330,360,361,421,224,30,453,118,13,129,182,171,245,406,282,411,449,225,333,210,371,404,280,373,467'\n"
     ]
    }
   ],
   "source": [
    "#print(mg.sort_values('channel_ratio_y'))\n",
    "print('total test channels:', test_ch['channel'].nunique())\n",
    "from pprint import pprint\n",
    "channel_least_count = 90\n",
    "channel_most_count = test_ch['channel'].nunique() - channel_least_count\n",
    "print('total ratio of most popular {} channels in test:'.format(channel_most_count))\n",
    "print(mg.sort_values('channel_ratio_y', ascending=False)['channel_ratio_y'][0:channel_most_count].sum())\n",
    "print('total ratio of least popular {} channels in test:'.format(channel_least_count))\n",
    "print(mg.sort_values('channel_ratio_y')['channel_ratio_y'][0:channel_least_count].sum())\n",
    "\n",
    "print('most popular {} channels in test:'.format(channel_most_count))\n",
    "print(','.join(list(mg.sort_values('channel_ratio_y', ascending=False)['channel'][0:channel_most_count].values.astype(str))))\n",
    "print('lease popular {} channels in test:'.format(channel_least_count))\n",
    "pprint(','.join(mg.sort_values('channel_ratio_y')['channel'][0:channel_least_count].values.astype(str)))\n"
   ]
  },
  {
   "cell_type": "code",
   "execution_count": 47,
   "metadata": {},
   "outputs": [
    {
     "name": "stdout",
     "output_type": "stream",
     "text": [
      "    hour  hour_count_x  hour_ratio_x  hour_count_y  hour_ratio_y\n",
      "10     6       9471879      0.051226         381.0      0.000020\n",
      "6     11       9912918      0.053611         413.0      0.000022\n",
      "13    15       9226735      0.049900         499.0      0.000027\n",
      "4      5      10059359      0.054403     2858427.0      0.152121\n",
      "14     9       9015837      0.048760     2984808.0      0.158847\n",
      "5     10       9982031      0.053985     3127993.0      0.166467\n",
      "2     13      10309396      0.055755     3212566.0      0.170968\n",
      "3     14      10281823      0.055606     3261257.0      0.173559\n",
      "0      4      11223316      0.060698     3344125.0      0.177969\n",
      "1      0      10416435      0.056334           NaN           NaN\n",
      "7     12       9849365      0.053267           NaN           NaN\n",
      "8      2       9750363      0.052732           NaN           NaN\n",
      "9      3       9743476      0.052695           NaN           NaN\n",
      "11     1       9456661      0.051144           NaN           NaN\n",
      "12     7       9265535      0.050110           NaN           NaN\n",
      "15     8       8582051      0.046414           NaN           NaN\n",
      "16    16       7078571      0.038282           NaN           NaN\n",
      "17    23       7060079      0.038182           NaN           NaN\n",
      "18    17       3913808      0.021167           NaN           NaN\n",
      "19    22       3656590      0.019776           NaN           NaN\n",
      "20    18       2258912      0.012217           NaN           NaN\n",
      "21    21       1578956      0.008539           NaN           NaN\n",
      "22    19       1543463      0.008347           NaN           NaN\n",
      "23    20       1266331      0.006849           NaN           NaN\n"
     ]
    }
   ],
   "source": [
    "# check hours:\n",
    "\n",
    "\n",
    "train_hr = top_n_values_of_dimensions(data, ['hour'],'app')\n",
    "test_hr = top_n_values_of_dimensions(data1, ['hour'],'app')\n",
    "mghr = train_hr.merge(test_hr, on=['hour'], how='left')\n",
    "\n",
    "print(mghr.sort_values('hour_ratio_y').to_string())"
   ]
  },
  {
   "cell_type": "code",
   "execution_count": 40,
   "metadata": {},
   "outputs": [
    {
     "name": "stdout",
     "output_type": "stream",
     "text": [
      "Index(['ip', 'app', 'device', 'os', 'channel', 'click_time', 'is_attributed',\n",
      "       'hour', 'day'],\n",
      "      dtype='object')\n"
     ]
    }
   ],
   "source": [
    "print(data.columns)"
   ]
  },
  {
   "cell_type": "code",
   "execution_count": null,
   "metadata": {
    "collapsed": true
   },
   "outputs": [],
   "source": [
    "\n",
    "\n",
    "\n",
    "\n",
    "#print('record counts in days in sample:', data[['day','channel']].groupby(['day']).count())\n",
    "\n",
    "\n",
    "\n",
    "\n",
    "\n",
    "\n",
    "\n",
    "mean = data[['ip', 'app', 'device', 'os','is_attributed']].groupby(by=['ip', 'app', 'device', 'os'])[['is_attributed']].mean().rename(columns={'is_attributed':'mean'})\n",
    "count = data[['ip', 'app', 'device', 'os','is_attributed']].groupby(by=['ip', 'app', 'device', 'os'])[['is_attributed']].count().rename(columns={'is_attributed':'count'})"
   ]
  },
  {
   "cell_type": "code",
   "execution_count": null,
   "metadata": {
    "collapsed": true
   },
   "outputs": [],
   "source": [
    "mean = mean.merge(count, how='left',left_index=True, right_index=True)\n",
    "print(mean)"
   ]
  },
  {
   "cell_type": "code",
   "execution_count": null,
   "metadata": {
    "collapsed": true
   },
   "outputs": [],
   "source": [
    "mean.query('count_x > 30').sort_values(by='mean', ascending=False)[0:10]"
   ]
  },
  {
   "cell_type": "code",
   "execution_count": null,
   "metadata": {
    "collapsed": true
   },
   "outputs": [],
   "source": [
    "joint_col = None\n",
    "D = 2 ** 26\n",
    "feature_name_added = 'nc'\n",
    "training = data\n",
    "group_by_cols = ['ip','app','device','os']\n",
    "\n",
    "for col in group_by_cols:\n",
    "    if joint_col is None:\n",
    "        joint_col = training[col].astype(str)\n",
    "    else:\n",
    "        joint_col = joint_col + \"_\" + training[col].astype(str)\n",
    "\n",
    "training['category'] = joint_col.apply(hash) % D\n",
    "del joint_col"
   ]
  },
  {
   "cell_type": "code",
   "execution_count": null,
   "metadata": {
    "collapsed": true
   },
   "outputs": [],
   "source": [
    "click_buffer = np.full(D, 3000000000, dtype=np.uint32)\n",
    "training['epochtime'] = training['click_time'].astype(np.int64) // 10 ** 9\n",
    "next_clicks = []\n",
    "for category, time in zip(reversed(training['category'].values),\n",
    "                          reversed(training['epochtime'].values)):\n",
    "    next_clicks.append(click_buffer[category] - time)\n",
    "    click_buffer[category] = time\n",
    "del (click_buffer)\n",
    "training[feature_name_added] = list(reversed(next_clicks))"
   ]
  },
  {
   "cell_type": "code",
   "execution_count": null,
   "metadata": {
    "collapsed": true
   },
   "outputs": [],
   "source": [
    "#print(training[['ip','app','device','os','nc']])\n",
    "\n",
    "a = mean.query('count_x > 30').sort_values(by='mean', ascending=False)[0:10].reset_index()"
   ]
  },
  {
   "cell_type": "code",
   "execution_count": null,
   "metadata": {
    "collapsed": true
   },
   "outputs": [],
   "source": [
    "print('done a')\n",
    "b = a.merge(training[['ip','app','device','os','nc','click_time', 'is_attributed']], \n",
    "            on=['ip','app','device','os'], how='left')"
   ]
  },
  {
   "cell_type": "code",
   "execution_count": null,
   "metadata": {
    "collapsed": true
   },
   "outputs": [],
   "source": [
    "print(b.to_string())"
   ]
  },
  {
   "cell_type": "code",
   "execution_count": null,
   "metadata": {
    "collapsed": true
   },
   "outputs": [],
   "source": [
    "a1 = mean.query('mean == 0').sort_values(by='count_x', ascending=False)[0:10].reset_index()\n",
    "print('done a')\n",
    "b1 = a1.merge(training[['ip','app','device','os','nc','click_time','is_attributed']], on=['ip','app','device','os'], how='left')"
   ]
  },
  {
   "cell_type": "code",
   "execution_count": null,
   "metadata": {
    "collapsed": true
   },
   "outputs": [],
   "source": [
    "print(b1[8000:10000].to_string())"
   ]
  },
  {
   "cell_type": "code",
   "execution_count": null,
   "metadata": {
    "collapsed": true
   },
   "outputs": [],
   "source": [
    "print(len(training.query('nc > 1489000000')))\n",
    "print(len(training))\n",
    "print(len(mean.query('count_x>30')))\n",
    "print(len(mean.query('count_x==1')))"
   ]
  },
  {
   "cell_type": "code",
   "execution_count": null,
   "metadata": {
    "collapsed": true
   },
   "outputs": [],
   "source": [
    "a2 = mean.query('count_x > 30').sort_values(by='mean', ascending=True)[70000:70010].reset_index()\n",
    "print('done a')\n",
    "b2 = a2.merge(training[['ip','app','device','os','nc','click_time','is_attributed']], on=['ip','app','device','os'], how='left')"
   ]
  },
  {
   "cell_type": "code",
   "execution_count": null,
   "metadata": {
    "collapsed": true
   },
   "outputs": [],
   "source": [
    "print(b2[0:1000].to_string())"
   ]
  },
  {
   "cell_type": "code",
   "execution_count": null,
   "metadata": {
    "collapsed": true
   },
   "outputs": [],
   "source": [
    "#print(data[1000000:1000003])\n",
    "data['id']=data.index\n",
    "data1 = data.set_index('click_time').loc['2017-11-08 04:00:00':'2017-11-08 15:00:00']\n",
    "\n",
    "print(data1['id'].min())\n",
    "print(data1['id'].max())\n",
    "print(len(data1))"
   ]
  },
  {
   "cell_type": "code",
   "execution_count": null,
   "metadata": {
    "collapsed": true
   },
   "outputs": [],
   "source": []
  },
  {
   "cell_type": "code",
   "execution_count": null,
   "metadata": {
    "collapsed": true
   },
   "outputs": [],
   "source": [
    "data1 = data.set_index('click_time').loc['2017-11-09 04:00:00':'2017-11-09 15:00:00']\n",
    "\n",
    "print(data1['id'].min())\n",
    "print(data1['id'].max())\n",
    "print(len(data1))"
   ]
  },
  {
   "cell_type": "code",
   "execution_count": null,
   "metadata": {
    "collapsed": true
   },
   "outputs": [],
   "source": [
    "# calculate combined cvr to test hist fts generation\n",
    "\n",
    "#print('app device cvr:', data[['app','device', 'is_attributed']].groupby(['app','device']).mean().to_string())\n",
    "\n",
    "os_count = data[['os', 'is_attributed']].groupby(['os']).count()\n",
    "\n",
    "os_non_attr_count = (1 - data[['os', 'is_attributed']].groupby(['os']).max()) * os_count\n",
    "\n",
    "print('app device non attri count:', os_non_attr_count.to_string())\n",
    "\n",
    "#print('app device  attri count:', data[['app','device', 'is_attributed']].groupby(['app','device']).sum().to_string())\n",
    "\n",
    "#attributed_data = data.query('is_attributed == 1')\n",
    "\n",
    "#print('len of attributed:',len(attributed_data))"
   ]
  },
  {
   "cell_type": "code",
   "execution_count": null,
   "metadata": {
    "collapsed": true
   },
   "outputs": [],
   "source": [
    "\n",
    "data= data.merge(os_non_attr_count.reset_index(), on=['os'], how='left')\n",
    "\n",
    "\n",
    "print(data)"
   ]
  },
  {
   "cell_type": "code",
   "execution_count": null,
   "metadata": {
    "collapsed": true
   },
   "outputs": [],
   "source": [
    "xxx = pd.DataFrame(data['is_attributed_y'], dtype='float64')\n",
    "xxx.to_csv('validation.csv.bz2', index=False, compression='bz2')"
   ]
  },
  {
   "cell_type": "code",
   "execution_count": null,
   "metadata": {
    "collapsed": true
   },
   "outputs": [],
   "source": [
    "\n",
    "log_group = 100000\n",
    "def rate_calculation(x):\n",
    "    \"\"\"Calculate the attributed rate. Scale by confidence\"\"\"\n",
    "    rate = x.sum() / float(x.count())\n",
    "    conf = np.min([1, np.log(x.count()) / log_group])\n",
    "    return rate * conf\n",
    "\n",
    "yyy = data[['app','device', 'is_attributed_x']].groupby(['app','device'])[['is_attributed_x']].apply(rate_calculation).reset_index()\n",
    "data= data.merge(yyy, on=['app','device'], how='left')\n",
    "\n",
    "xxx = pd.DataFrame(data['is_attributed_x_y'])\n",
    "xxx.to_csv('validation1.csv.bz2', index=False, compression='bz2')"
   ]
  },
  {
   "cell_type": "code",
   "execution_count": null,
   "metadata": {
    "collapsed": true
   },
   "outputs": [],
   "source": [
    "print('sampling data')\n",
    "#data = data.set_index('ip').loc[lambda x: (x.index + 401) % 10 == 0].reset_index()\n",
    "\n",
    "\n",
    "data.drop('click_time', inplace=True, axis=1)"
   ]
  },
  {
   "cell_type": "code",
   "execution_count": null,
   "metadata": {
    "collapsed": true
   },
   "outputs": [],
   "source": [
    "data0['hour'] = data0[\"click_time\"].dt.hour.astype('uint8')\n",
    "data0['day'] = data0[\"click_time\"].dt.day.astype('uint8')\n",
    "\n",
    "data0.drop('click_time', inplace=True, axis=1)"
   ]
  },
  {
   "cell_type": "code",
   "execution_count": null,
   "metadata": {
    "collapsed": true
   },
   "outputs": [],
   "source": [
    "#data.drop('click_time', inplace=True, axis=1)\n",
    "\n",
    "print('added hour and day')\n",
    "\n"
   ]
  },
  {
   "cell_type": "code",
   "execution_count": null,
   "metadata": {
    "collapsed": true
   },
   "outputs": [],
   "source": [
    "#print(data.describe())\n",
    "\n",
    "data0 = data0.query('hour in [{}]'.format(','.join(map(lambda x: str(x), set(data['hour'].unique())))))\n",
    "print(data0['hour'].unique())\n",
    "\n",
    "hour_set = set(data['hour'].unique())\n",
    "hour_set0 = set(data0['hour'].unique())\n"
   ]
  },
  {
   "cell_type": "code",
   "execution_count": null,
   "metadata": {
    "collapsed": true
   },
   "outputs": [],
   "source": [
    "osset = set(data['os'].unique())\n",
    "osset0 = set(data0['os'].unique())\n",
    "\n",
    "print(len(osset & osset0))\n",
    "print(len(osset0))"
   ]
  },
  {
   "cell_type": "code",
   "execution_count": null,
   "metadata": {
    "collapsed": true
   },
   "outputs": [],
   "source": [
    "chset = set(data['app'].unique())\n",
    "chset0 = set(data0['app'].unique())\n",
    "\n",
    "print(len(chset & chset0))\n",
    "print(len(chset0))"
   ]
  }
 ],
 "metadata": {
  "kernelspec": {
   "display_name": "Python 3",
   "language": "python",
   "name": "python3"
  },
  "language_info": {
   "codemirror_mode": {
    "name": "ipython",
    "version": 3
   },
   "file_extension": ".py",
   "mimetype": "text/x-python",
   "name": "python",
   "nbconvert_exporter": "python",
   "pygments_lexer": "ipython3",
   "version": "3.6.1"
  }
 },
 "nbformat": 4,
 "nbformat_minor": 2
}
