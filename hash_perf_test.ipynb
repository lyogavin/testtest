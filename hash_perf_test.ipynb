{
 "cells": [
  {
   "cell_type": "code",
   "execution_count": 7,
   "metadata": {},
   "outputs": [
    {
     "name": "stdout",
     "output_type": "stream",
     "text": [
      "793571\n",
      "start  md5\n",
      "[md5] done in 0.2566828727722168 s\n",
      "501026\n",
      "start  mmh\n",
      "[mmh] done in 0.06874394416809082 s\n"
     ]
    }
   ],
   "source": [
    "import hashlib\n",
    "import time\n",
    "import mmh3\n",
    "\n",
    "\n",
    "from contextlib import contextmanager\n",
    "\n",
    "\n",
    "NR_BINS = 1000000\n",
    "\n",
    "def hashstr(input):\n",
    "    return str(int(hashlib.md5(input.encode('utf8')).hexdigest(), 16)%(NR_BINS-1)+1)\n",
    "\n",
    "\n",
    "\n",
    "@contextmanager\n",
    "def timer(name):\n",
    "    t0 = time.time()\n",
    "    print('start ',name)\n",
    "    yield\n",
    "    print('[{}] done in {} s'.format(name, time.time() - t0))\n",
    "\n",
    "print(hashstr('XFD43214321'))\n",
    "\n",
    "with timer('md5'):\n",
    "    for i in range(100000):\n",
    "        hashstr('XFD43214321')\n",
    "\n",
    "print(str(mmh3.hash('XFD43214321') % NR_BINS))\n",
    "   \n",
    "with timer('mmh'):\n",
    "    for i in range(100000):\n",
    "        str(mmh3.hash('XFD43214321'))"
   ]
  }
 ],
 "metadata": {
  "kernelspec": {
   "display_name": "Python 3",
   "language": "python",
   "name": "python3"
  },
  "language_info": {
   "codemirror_mode": {
    "name": "ipython",
    "version": 3
   },
   "file_extension": ".py",
   "mimetype": "text/x-python",
   "name": "python",
   "nbconvert_exporter": "python",
   "pygments_lexer": "ipython3",
   "version": "3.6.1"
  }
 },
 "nbformat": 4,
 "nbformat_minor": 2
}
