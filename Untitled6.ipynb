{
 "cells": [
  {
   "cell_type": "code",
   "execution_count": 14,
   "metadata": {
    "collapsed": true
   },
   "outputs": [],
   "source": [
    "import pandas as pd\n",
    "\n",
    "a = pd.read_csv('../input/talkingdata-adtracking-fraud-detection/test.csv') #, \n",
    "               #skiprows=range(1,184903891-1-75000000), nrows=40000000)\n",
    "\n"
   ]
  },
  {
   "cell_type": "code",
   "execution_count": 6,
   "metadata": {},
   "outputs": [
    {
     "name": "stdout",
     "output_type": "stream",
     "text": [
      "       ip  app  device  os  channel           click_time attributed_time  \\\n",
      "1  143414    3       1  19      280  2017-11-08 12:33:34             NaN   \n",
      "2  173096   12       1  17      178  2017-11-08 12:33:34             NaN   \n",
      "3    8210    3       1  42      280  2017-11-08 12:33:34             NaN   \n",
      "4    5746    3       1  19      130  2017-11-08 12:33:34             NaN   \n",
      "5   31475   26       1  22      266  2017-11-08 12:33:34             NaN   \n",
      "6  251465   12       1  37      328  2017-11-08 12:33:34             NaN   \n",
      "7  163593    3       1  13      280  2017-11-08 12:33:34             NaN   \n",
      "8   58288   12       1  14      265  2017-11-08 12:33:34             NaN   \n",
      "9   27038   11       1  13      469  2017-11-08 12:33:34             NaN   \n",
      "\n",
      "   is_attributed  \n",
      "1              0  \n",
      "2              0  \n",
      "3              0  \n",
      "4              0  \n",
      "5              0  \n",
      "6              0  \n",
      "7              0  \n",
      "8              0  \n",
      "9              0  \n",
      "109903890\n",
      "count    4.000000e+07\n",
      "mean     2.701678e+02\n",
      "std      1.257732e+02\n",
      "min      0.000000e+00\n",
      "25%      1.500000e+02\n",
      "50%      2.590000e+02\n",
      "75%      3.790000e+02\n",
      "max      4.980000e+02\n",
      "Name: channel, dtype: float64\n",
      "nan count:  0\n"
     ]
    }
   ],
   "source": [
    "print(a[:][1:10])\n",
    "print(184903891-1-75000000)\n",
    "\n",
    "print(a['channel'].describe())\n",
    "print('nan count: ', a['channel'].isnull().sum())\n"
   ]
  },
  {
   "cell_type": "code",
   "execution_count": 9,
   "metadata": {},
   "outputs": [
    {
     "name": "stdout",
     "output_type": "stream",
     "text": [
      "                 channel\n",
      "ip     day hour         \n",
      "1      8   17          5\n",
      "           19          2\n",
      "           20          4\n",
      "           22          4\n",
      "           23          2\n",
      "       9   1           2\n",
      "           3           6\n",
      "6      8   13         19\n",
      "           14         39\n",
      "           15         26\n",
      "           16          8\n",
      "           17          3\n",
      "           20          3\n",
      "           21          1\n",
      "           22          9\n",
      "           23         32\n",
      "       9   0          27\n",
      "           1          25\n",
      "           2          27\n",
      "           3          26\n",
      "           4          11\n",
      "           5          15\n",
      "9      8   12         70\n",
      "           13         26\n",
      "           14         78\n",
      "           15        122\n",
      "           16         33\n",
      "           17         24\n",
      "           18          3\n",
      "           19          8\n",
      "...                  ...\n",
      "364759 9   3           2\n",
      "           4          42\n",
      "           5           8\n",
      "364760 9   2           1\n",
      "364761 8   23         22\n",
      "       9   1          15\n",
      "           2          15\n",
      "           3          12\n",
      "           4          17\n",
      "           5          12\n",
      "364764 8   17          3\n",
      "           23          4\n",
      "       9   0           2\n",
      "           2           9\n",
      "           4          25\n",
      "           5          45\n",
      "364767 9   1           1\n",
      "           2           1\n",
      "364768 9   4           3\n",
      "364770 9   3           1\n",
      "           4           1\n",
      "364772 9   4           1\n",
      "364773 9   0           2\n",
      "           1           1\n",
      "364775 8   17          2\n",
      "       9   3           6\n",
      "364776 8   16         39\n",
      "           17          2\n",
      "           18          4\n",
      "364777 9   1           1\n",
      "\n",
      "[784364 rows x 1 columns]\n"
     ]
    }
   ],
   "source": [
    "\n",
    "a['hour'] = pd.to_datetime(a.click_time).dt.hour.astype('uint8')\n",
    "a['day'] = pd.to_datetime(a.click_time).dt.day.astype('uint8')\n",
    "\n",
    "b = a.groupby(by=['ip','day','hour'])[['channel']].count()\n",
    "print(b)"
   ]
  },
  {
   "cell_type": "code",
   "execution_count": 13,
   "metadata": {},
   "outputs": [
    {
     "name": "stdout",
     "output_type": "stream",
     "text": [
      "       ip  app  device  os  channel           click_time attributed_time  \\\n",
      "1  143414    3       1  19      280  2017-11-08 12:33:34             NaN   \n",
      "2  173096   12       1  17      178  2017-11-08 12:33:34             NaN   \n",
      "3    8210    3       1  42      280  2017-11-08 12:33:34             NaN   \n",
      "4    5746    3       1  19      130  2017-11-08 12:33:34             NaN   \n",
      "5   31475   26       1  22      266  2017-11-08 12:33:34             NaN   \n",
      "6  251465   12       1  37      328  2017-11-08 12:33:34             NaN   \n",
      "7  163593    3       1  13      280  2017-11-08 12:33:34             NaN   \n",
      "8   58288   12       1  14      265  2017-11-08 12:33:34             NaN   \n",
      "9   27038   11       1  13      469  2017-11-08 12:33:34             NaN   \n",
      "\n",
      "   is_attributed  hour  day  \n",
      "1              0    12    8  \n",
      "2              0    12    8  \n",
      "3              0    12    8  \n",
      "4              0    12    8  \n",
      "5              0    12    8  \n",
      "6              0    12    8  \n",
      "7              0    12    8  \n",
      "8              0    12    8  \n",
      "9              0    12    8  \n",
      "                 channel\n",
      "ip     day hour         \n",
      "143414 8   12         43\n",
      "           13         83\n",
      "           14         71\n",
      "           15         75\n",
      "           16         47\n",
      "           17         16\n",
      "           18          9\n",
      "           20          2\n",
      "           21         21\n",
      "           22          4\n",
      "           23         51\n",
      "       9   0         118\n",
      "           1         120\n",
      "           2          38\n",
      "           3         118\n",
      "           4         152\n",
      "           5          29\n",
      "                 channel\n",
      "ip     day hour         \n",
      "173096 8   12         18\n",
      "           13         21\n",
      "           14         11\n",
      "           15         48\n"
     ]
    }
   ],
   "source": [
    "print(a[:][1:10])\n",
    "print(b.query('ip == 143414'))\n",
    "print(b.query('ip == 173096'))"
   ]
  }
 ],
 "metadata": {
  "kernelspec": {
   "display_name": "Python 3",
   "language": "python",
   "name": "python3"
  },
  "language_info": {
   "codemirror_mode": {
    "name": "ipython",
    "version": 3
   },
   "file_extension": ".py",
   "mimetype": "text/x-python",
   "name": "python",
   "nbconvert_exporter": "python",
   "pygments_lexer": "ipython3",
   "version": "3.6.1"
  }
 },
 "nbformat": 4,
 "nbformat_minor": 2
}
