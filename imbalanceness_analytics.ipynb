{
 "cells": [
  {
   "cell_type": "code",
   "execution_count": 11,
   "metadata": {},
   "outputs": [
    {
     "name": "stdout",
     "output_type": "stream",
     "text": [
      "len read: 18790469\n"
     ]
    }
   ],
   "source": [
    "import pandas as pd\n",
    "import numpy as np\n",
    "\n",
    "train_cols = ['ip', 'app', 'device', 'os', 'channel', 'click_time', 'is_attributed']\n",
    "test_cols = ['ip', 'app', 'device', 'os', 'channel', 'click_time', 'click_id']\n",
    "\n",
    "dtypes = {\n",
    "        'ip'            : 'uint32',\n",
    "        'app'           : 'uint16',\n",
    "        'device'        : 'uint16',\n",
    "        'os'            : 'uint16',\n",
    "        'channel'       : 'uint16',\n",
    "        'is_attributed' : 'uint8',\n",
    "        'click_id'      : 'uint32'\n",
    "        }\n",
    "        \n",
    "\n",
    "data0 = pd.read_csv('../input/train.csv', header=0,usecols=train_cols,parse_dates=[\"click_time\"], dtype=dtypes)\n",
    "data = pd.read_csv('../input/test.csv', header=0,usecols=test_cols,parse_dates=[\"click_time\"], dtype=dtypes)\n",
    "\n",
    "print('len read:',len(data))"
   ]
  },
  {
   "cell_type": "code",
   "execution_count": 12,
   "metadata": {},
   "outputs": [],
   "source": [
    "#attributed_data = data.query('is_attributed == 1')\n",
    "\n",
    "#print('len of attributed:',len(attributed_data))"
   ]
  },
  {
   "cell_type": "code",
   "execution_count": 13,
   "metadata": {},
   "outputs": [
    {
     "name": "stdout",
     "output_type": "stream",
     "text": [
      "0.997529278589001\n"
     ]
    }
   ],
   "source": [
    "print(1.0 - 456846/184903890)"
   ]
  },
  {
   "cell_type": "code",
   "execution_count": null,
   "metadata": {
    "collapsed": true
   },
   "outputs": [],
   "source": [
    "print('sampling data')\n",
    "#data = data.set_index('ip').loc[lambda x: (x.index + 401) % 10 == 0].reset_index()\n",
    "\n",
    "data['hour'] = data[\"click_time\"].dt.hour.astype('uint8')\n",
    "data['day'] = data[\"click_time\"].dt.day.astype('uint8')\n",
    "\n",
    "data.drop('click_time', inplace=True, axis=1)"
   ]
  },
  {
   "cell_type": "code",
   "execution_count": 25,
   "metadata": {},
   "outputs": [],
   "source": [
    "data0['hour'] = data0[\"click_time\"].dt.hour.astype('uint8')\n",
    "data0['day'] = data0[\"click_time\"].dt.day.astype('uint8')\n",
    "\n",
    "data0.drop('click_time', inplace=True, axis=1)"
   ]
  },
  {
   "cell_type": "code",
   "execution_count": 15,
   "metadata": {},
   "outputs": [
    {
     "name": "stdout",
     "output_type": "stream",
     "text": [
      "added hour and day\n"
     ]
    }
   ],
   "source": [
    "#data.drop('click_time', inplace=True, axis=1)\n",
    "\n",
    "print('added hour and day')\n",
    "\n"
   ]
  },
  {
   "cell_type": "code",
   "execution_count": 26,
   "metadata": {},
   "outputs": [
    {
     "name": "stdout",
     "output_type": "stream",
     "text": [
      "[14 15  4  5  6  9 10 11 13]\n"
     ]
    }
   ],
   "source": [
    "#print(data.describe())\n",
    "\n",
    "data0 = data0.query('hour in [{}]'.format(','.join(map(lambda x: str(x), set(data['hour'].unique())))))\n",
    "print(data0['hour'].unique())\n",
    "\n",
    "hour_set = set(data['hour'].unique())\n",
    "hour_set0 = set(data0['hour'].unique())\n"
   ]
  },
  {
   "cell_type": "code",
   "execution_count": 27,
   "metadata": {},
   "outputs": [
    {
     "name": "stdout",
     "output_type": "stream",
     "text": [
      "315\n",
      "573\n"
     ]
    }
   ],
   "source": [
    "osset = set(data['os'].unique())\n",
    "osset0 = set(data0['os'].unique())\n",
    "\n",
    "print(len(osset & osset0))\n",
    "print(len(osset0))"
   ]
  },
  {
   "cell_type": "code",
   "execution_count": 28,
   "metadata": {},
   "outputs": [
    {
     "name": "stdout",
     "output_type": "stream",
     "text": [
      "384\n",
      "610\n"
     ]
    }
   ],
   "source": [
    "chset = set(data['app'].unique())\n",
    "chset0 = set(data0['app'].unique())\n",
    "\n",
    "print(len(chset & chset0))\n",
    "print(len(chset0))"
   ]
  }
 ],
 "metadata": {
  "kernelspec": {
   "display_name": "Python 3",
   "language": "python",
   "name": "python3"
  },
  "language_info": {
   "codemirror_mode": {
    "name": "ipython",
    "version": 3
   },
   "file_extension": ".py",
   "mimetype": "text/x-python",
   "name": "python",
   "nbconvert_exporter": "python",
   "pygments_lexer": "ipython3",
   "version": "3.6.1"
  }
 },
 "nbformat": 4,
 "nbformat_minor": 2
}
